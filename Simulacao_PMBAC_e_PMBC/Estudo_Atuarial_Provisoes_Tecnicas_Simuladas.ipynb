{
 "cells": [
  {
   "cell_type": "markdown",
   "id": "66cd4ede",
   "metadata": {},
   "source": [
    "## <center><font color='black'>Dados Atuariais Simulados para Estudo e Análise com Programação</font><center>"
   ]
  },
  {
   "cell_type": "markdown",
   "id": "95f1619e",
   "metadata": {},
   "source": [
    "## Descrição: \n",
    "\n",
    "#### Este projeto visa a criação e análise de um conjunto de dados atuariais simulados, com o objetivo de explorar conceitos fundamentais em ciência atuarial e finanças, utilizando Python para a simulação e manipulação dos dados. \n",
    "\n",
    "#### O foco principal está na geração de dados para provisões matemáticas, como Provisão Matemática de Benefícios Concedidos (PMBC) e Provisão Matemática de Benefícios a Conceder (PMBAC), permitindo uma compreensão prática do regime de capitalização e cálculo de provisões técnicas."
   ]
  },
  {
   "cell_type": "markdown",
   "id": "1ce01db2",
   "metadata": {},
   "source": [
    "## Objetivos:\n",
    "\n",
    "#### 1. Desenvolver uma base de dados fictícia para estudos atuariais.\n",
    "#### 2. Implementar cálculos atuariais e simulações de provisões.\n",
    "#### 3. Praticar técnicas de programação e análise de dados atuariais com Python."
   ]
  },
  {
   "cell_type": "markdown",
   "id": "205caebc",
   "metadata": {},
   "source": [
    "## Contribuições: \n",
    "\n",
    "#### Este projeto é ideal para estudantes e profissionais que desejam aplicar programação para aprender conceitos atuariais de forma prática e interativa."
   ]
  },
  {
   "cell_type": "code",
   "execution_count": 1,
   "id": "6120114a",
   "metadata": {},
   "outputs": [
    {
     "name": "stderr",
     "output_type": "stream",
     "text": [
      "C:\\ProgramData\\Anaconda3\\lib\\site-packages\\scipy\\__init__.py:138: UserWarning: A NumPy version >=1.16.5 and <1.23.0 is required for this version of SciPy (detected version 1.23.0)\n",
      "  warnings.warn(f\"A NumPy version >={np_minversion} and <{np_maxversion} is required for this version of \"\n"
     ]
    }
   ],
   "source": [
    "# Bibliotecas\n",
    "\n",
    "import pandas as pd\n",
    "import numpy as np\n",
    "import matplotlib.pyplot as plt\n",
    "import seaborn as sns"
   ]
  },
  {
   "cell_type": "markdown",
   "id": "3e828e41",
   "metadata": {},
   "source": [
    "## Gerando dados ficticios - Perfil e Quantidade dos Segurados"
   ]
  },
  {
   "cell_type": "code",
   "execution_count": 2,
   "id": "5d8a1b04",
   "metadata": {},
   "outputs": [],
   "source": [
    "# Definindo as premissas iniciais\n",
    "\n",
    "idade_minima = 25  # Idade mínima dos segurados\n",
    "idade_maxima = 64   # Idade máxima antes da aposentadoria\n",
    "idade_aposentadoria = 65  # Idade em que começam os benefícios"
   ]
  },
  {
   "cell_type": "code",
   "execution_count": 3,
   "id": "21d00b60",
   "metadata": {},
   "outputs": [],
   "source": [
    "# Valores para simulação\n",
    "\n",
    "taxa_juros = 0.03  # 3% de taxa de juros anual para cálculos atuariais\n",
    "valor_beneficio = 2000  # Valor mensal do benefício na fase de concessão\n",
    "contribuicao_mensal = 500  # Valor da contribuição mensal na fase de acumulação"
   ]
  },
  {
   "cell_type": "code",
   "execution_count": 4,
   "id": "683ea49a",
   "metadata": {},
   "outputs": [],
   "source": [
    "# Número de segurados simulados\n",
    "\n",
    "num_segurados = 19870  # Número de segurados na simulação"
   ]
  },
  {
   "cell_type": "code",
   "execution_count": 5,
   "id": "127fd7aa",
   "metadata": {},
   "outputs": [],
   "source": [
    "# Gerando idades aleatórias para os segurados entre 25 e 65 anos\n",
    "\n",
    "idades = np.random.randint(idade_minima, idade_aposentadoria + 1, num_segurados)"
   ]
  },
  {
   "cell_type": "code",
   "execution_count": 6,
   "id": "680a0ac8",
   "metadata": {},
   "outputs": [],
   "source": [
    "# Gerando idades de contratação aleatórias para os segurados\n",
    "\n",
    "idades_contratacao = [\n",
    "    np.random.randint(idade_minima, idade) if idade > idade_minima else idade_minima\n",
    "    for idade in idades\n",
    "]"
   ]
  },
  {
   "cell_type": "code",
   "execution_count": 7,
   "id": "ad05e1af",
   "metadata": {},
   "outputs": [],
   "source": [
    "# Definindo o estado de benefício para cada segurado com base na idade\n",
    "\n",
    "estado_beneficio = np.where(idades < idade_aposentadoria, \"PMBAC\", \"PMBC\")"
   ]
  },
  {
   "cell_type": "code",
   "execution_count": 8,
   "id": "03fe1be1",
   "metadata": {},
   "outputs": [],
   "source": [
    "# Criando o DataFrame e adicionando a coluna Idade_Contratacao\n",
    "\n",
    "dados_segurados = pd.DataFrame({\n",
    "    \"Idade\": idades,\n",
    "    \"Idade_Contratacao\": idades_contratacao,\n",
    "    \"Estado_Benefício\": estado_beneficio\n",
    "})"
   ]
  },
  {
   "cell_type": "code",
   "execution_count": 9,
   "id": "b667bf51",
   "metadata": {},
   "outputs": [
    {
     "data": {
      "text/html": [
       "<div>\n",
       "<style scoped>\n",
       "    .dataframe tbody tr th:only-of-type {\n",
       "        vertical-align: middle;\n",
       "    }\n",
       "\n",
       "    .dataframe tbody tr th {\n",
       "        vertical-align: top;\n",
       "    }\n",
       "\n",
       "    .dataframe thead th {\n",
       "        text-align: right;\n",
       "    }\n",
       "</style>\n",
       "<table border=\"1\" class=\"dataframe\">\n",
       "  <thead>\n",
       "    <tr style=\"text-align: right;\">\n",
       "      <th></th>\n",
       "      <th>Idade</th>\n",
       "      <th>Idade_Contratacao</th>\n",
       "      <th>Estado_Benefício</th>\n",
       "    </tr>\n",
       "  </thead>\n",
       "  <tbody>\n",
       "    <tr>\n",
       "      <th>0</th>\n",
       "      <td>28</td>\n",
       "      <td>26</td>\n",
       "      <td>PMBAC</td>\n",
       "    </tr>\n",
       "    <tr>\n",
       "      <th>1</th>\n",
       "      <td>49</td>\n",
       "      <td>30</td>\n",
       "      <td>PMBAC</td>\n",
       "    </tr>\n",
       "    <tr>\n",
       "      <th>2</th>\n",
       "      <td>59</td>\n",
       "      <td>28</td>\n",
       "      <td>PMBAC</td>\n",
       "    </tr>\n",
       "    <tr>\n",
       "      <th>3</th>\n",
       "      <td>62</td>\n",
       "      <td>40</td>\n",
       "      <td>PMBAC</td>\n",
       "    </tr>\n",
       "    <tr>\n",
       "      <th>4</th>\n",
       "      <td>58</td>\n",
       "      <td>42</td>\n",
       "      <td>PMBAC</td>\n",
       "    </tr>\n",
       "  </tbody>\n",
       "</table>\n",
       "</div>"
      ],
      "text/plain": [
       "   Idade  Idade_Contratacao Estado_Benefício\n",
       "0     28                 26            PMBAC\n",
       "1     49                 30            PMBAC\n",
       "2     59                 28            PMBAC\n",
       "3     62                 40            PMBAC\n",
       "4     58                 42            PMBAC"
      ]
     },
     "execution_count": 9,
     "metadata": {},
     "output_type": "execute_result"
    }
   ],
   "source": [
    "# Exibindo as primeiras linhas do Dataframe\n",
    "\n",
    "dados_segurados.head()"
   ]
  },
  {
   "cell_type": "markdown",
   "id": "57b68558",
   "metadata": {},
   "source": [
    "## Da base criada"
   ]
  },
  {
   "cell_type": "markdown",
   "id": "e1b5a00d",
   "metadata": {},
   "source": [
    "#### 1. Foi estabelecido uma idade mínimade de 25 anos para o início da contribuição e uma idade máxima de 64 anos para o termíno da contribuição.\n",
    "#### 2. Ao completar 65 anos, o segurado começa a receber o benefício.\n",
    "#### 3. Foi estabelecido uma taxa de juros de 3%.\n",
    "#### 4. O valor do benefício a ser recebido é de 2.000,00 com uma contribuição de 500,00.\n",
    "#### 5. Criação das colunas idade (idade atual) e idade na contratação.\n",
    "#### 5. Simulação para 19.870 segurados"
   ]
  },
  {
   "cell_type": "markdown",
   "id": "75c52c6b",
   "metadata": {},
   "source": [
    "## Simulando as contribuições e benefícios (PMBAC e PMBC)"
   ]
  },
  {
   "cell_type": "code",
   "execution_count": 10,
   "id": "6c7e5e95",
   "metadata": {},
   "outputs": [],
   "source": [
    "# Atribuindo valor de benefício com base no estado de benefício\n",
    "\n",
    "dados_segurados[\"Benefício\"] = np.where(\n",
    "    dados_segurados[\"Estado_Benefício\"] == \"PMBC\", valor_beneficio, 0\n",
    ")"
   ]
  },
  {
   "cell_type": "code",
   "execution_count": 11,
   "id": "11e40bce",
   "metadata": {},
   "outputs": [],
   "source": [
    "# Calculando o tempo restante até a aposentadoria em anos para os segurados em acumulação\n",
    "\n",
    "dados_segurados[\"Tempo_Acumulação\"] = np.where(\n",
    "    dados_segurados[\"Estado_Benefício\"] == \"PMBAC\", idade_aposentadoria - dados_segurados[\"Idade\"], 0\n",
    ")"
   ]
  },
  {
   "cell_type": "code",
   "execution_count": 12,
   "id": "0227d909",
   "metadata": {},
   "outputs": [],
   "source": [
    "# Convertendo o tempo de acumulação em meses\n",
    "\n",
    "dados_segurados[\"Tempo_Acumulação_Meses\"] = dados_segurados[\"Tempo_Acumulação\"] * 12"
   ]
  },
  {
   "cell_type": "code",
   "execution_count": 13,
   "id": "87a9b964",
   "metadata": {},
   "outputs": [],
   "source": [
    "# Definindo os meses mínimos para contribuição\n",
    "\n",
    "meses_minimos = 240  # Exemplo: 20 anos"
   ]
  },
  {
   "cell_type": "markdown",
   "id": "90810820",
   "metadata": {},
   "source": [
    "## Cálculo das provisões matemáticas de benefícios à conceder - PMBAC"
   ]
  },
  {
   "cell_type": "code",
   "execution_count": 14,
   "id": "b26cc86d",
   "metadata": {},
   "outputs": [],
   "source": [
    "# Atribuindo valor de contribuição ajustada com base na idade de contratação\n",
    "\n",
    "dados_segurados[\"Contribuicao\"] = np.where(\n",
    "    dados_segurados[\"Estado_Benefício\"] == \"PMBAC\",\n",
    "    contribuicao_mensal * (1 + (idade_aposentadoria - dados_segurados[\"Idade_Contratacao\"]) / (idade_aposentadoria - idade_minima)),\n",
    "    0\n",
    ")"
   ]
  },
  {
   "cell_type": "code",
   "execution_count": 15,
   "id": "d4e6fad2",
   "metadata": {},
   "outputs": [
    {
     "name": "stdout",
     "output_type": "stream",
     "text": [
      "   Idade  Idade_Contratacao Estado_Benefício  Contribuicao\n",
      "0     28                 26            PMBAC         987.5\n",
      "1     49                 30            PMBAC         937.5\n",
      "2     59                 28            PMBAC         962.5\n",
      "3     62                 40            PMBAC         812.5\n",
      "4     58                 42            PMBAC         787.5\n"
     ]
    }
   ],
   "source": [
    "# Verificando a nova coluna de Contribuição\n",
    "\n",
    "print(dados_segurados[[\"Idade\", \"Idade_Contratacao\", \"Estado_Benefício\", \"Contribuicao\"]].head())"
   ]
  },
  {
   "cell_type": "code",
   "execution_count": 16,
   "id": "b3a35535",
   "metadata": {},
   "outputs": [],
   "source": [
    "# Calculando a Provisão Matemática de Benefícios a Conceder (PMBAC)\n",
    "\n",
    "dados_segurados[\"PMBAC\"] = np.where(\n",
    "    dados_segurados[\"Estado_Benefício\"] == \"PMBAC\",\n",
    "    dados_segurados[\"Contribuicao\"] * ((1 + taxa_juros / 12) ** dados_segurados[\"Tempo_Acumulação_Meses\"] / 12),\n",
    "    0\n",
    ")"
   ]
  },
  {
   "cell_type": "code",
   "execution_count": 17,
   "id": "e2f5a854",
   "metadata": {},
   "outputs": [
    {
     "data": {
      "text/html": [
       "<div>\n",
       "<style scoped>\n",
       "    .dataframe tbody tr th:only-of-type {\n",
       "        vertical-align: middle;\n",
       "    }\n",
       "\n",
       "    .dataframe tbody tr th {\n",
       "        vertical-align: top;\n",
       "    }\n",
       "\n",
       "    .dataframe thead th {\n",
       "        text-align: right;\n",
       "    }\n",
       "</style>\n",
       "<table border=\"1\" class=\"dataframe\">\n",
       "  <thead>\n",
       "    <tr style=\"text-align: right;\">\n",
       "      <th></th>\n",
       "      <th>Idade</th>\n",
       "      <th>Estado_Benefício</th>\n",
       "      <th>Contribuicao</th>\n",
       "      <th>Tempo_Acumulação_Meses</th>\n",
       "      <th>PMBAC</th>\n",
       "    </tr>\n",
       "  </thead>\n",
       "  <tbody>\n",
       "    <tr>\n",
       "      <th>0</th>\n",
       "      <td>28</td>\n",
       "      <td>PMBAC</td>\n",
       "      <td>987.5</td>\n",
       "      <td>444</td>\n",
       "      <td>249.356763</td>\n",
       "    </tr>\n",
       "    <tr>\n",
       "      <th>1</th>\n",
       "      <td>49</td>\n",
       "      <td>PMBAC</td>\n",
       "      <td>937.5</td>\n",
       "      <td>192</td>\n",
       "      <td>126.180208</td>\n",
       "    </tr>\n",
       "    <tr>\n",
       "      <th>2</th>\n",
       "      <td>59</td>\n",
       "      <td>PMBAC</td>\n",
       "      <td>962.5</td>\n",
       "      <td>72</td>\n",
       "      <td>96.005242</td>\n",
       "    </tr>\n",
       "    <tr>\n",
       "      <th>3</th>\n",
       "      <td>62</td>\n",
       "      <td>PMBAC</td>\n",
       "      <td>812.5</td>\n",
       "      <td>36</td>\n",
       "      <td>74.076397</td>\n",
       "    </tr>\n",
       "    <tr>\n",
       "      <th>4</th>\n",
       "      <td>58</td>\n",
       "      <td>PMBAC</td>\n",
       "      <td>787.5</td>\n",
       "      <td>84</td>\n",
       "      <td>80.938909</td>\n",
       "    </tr>\n",
       "  </tbody>\n",
       "</table>\n",
       "</div>"
      ],
      "text/plain": [
       "   Idade Estado_Benefício  Contribuicao  Tempo_Acumulação_Meses       PMBAC\n",
       "0     28            PMBAC         987.5                     444  249.356763\n",
       "1     49            PMBAC         937.5                     192  126.180208\n",
       "2     59            PMBAC         962.5                      72   96.005242\n",
       "3     62            PMBAC         812.5                      36   74.076397\n",
       "4     58            PMBAC         787.5                      84   80.938909"
      ]
     },
     "execution_count": 17,
     "metadata": {},
     "output_type": "execute_result"
    }
   ],
   "source": [
    "# Exibindo as primeiras linhas para verificar a coluna PMBAC\n",
    "\n",
    "dados_segurados[[\"Idade\", \"Estado_Benefício\", \"Contribuicao\", \"Tempo_Acumulação_Meses\", \"PMBAC\"]].head()"
   ]
  },
  {
   "cell_type": "code",
   "execution_count": 18,
   "id": "71089fce",
   "metadata": {},
   "outputs": [],
   "source": [
    "# Definindo o tempo de recebimento dos benefícios em anos (Exemplo: expectativa de 20 anos)\n",
    "\n",
    "tempo_recebimento_anos = 20\n",
    "tempo_recebimento_meses = tempo_recebimento_anos * 12"
   ]
  },
  {
   "cell_type": "code",
   "execution_count": 19,
   "id": "9f1050c5",
   "metadata": {},
   "outputs": [],
   "source": [
    "# Definindo o tempo de recebimento dos benefícios em anos (Exemplo: expectativa de 20 anos)\n",
    "\n",
    "tempo_recebimento_anos = 20\n",
    "tempo_recebimento_meses = tempo_recebimento_anos * 12"
   ]
  },
  {
   "cell_type": "markdown",
   "id": "589dd77c",
   "metadata": {},
   "source": [
    "## Cálculo das provisões matemáticas de benefícios concedidos - PMBC"
   ]
  },
  {
   "cell_type": "code",
   "execution_count": 20,
   "id": "20eed292",
   "metadata": {},
   "outputs": [],
   "source": [
    "# Calculando a Provisão Matemática de Benefícios Concedidos (PMBC)\n",
    "\n",
    "dados_segurados[\"PMBC\"] = np.where(\n",
    "    dados_segurados[\"Estado_Benefício\"] == \"PMBC\",\n",
    "    dados_segurados[\"Benefício\"] * (1 - (1 + taxa_juros / 12) ** -tempo_recebimento_meses) / (taxa_juros / 12),\n",
    "    0\n",
    ")"
   ]
  },
  {
   "cell_type": "code",
   "execution_count": 21,
   "id": "c23a8858",
   "metadata": {},
   "outputs": [
    {
     "data": {
      "text/html": [
       "<div>\n",
       "<style scoped>\n",
       "    .dataframe tbody tr th:only-of-type {\n",
       "        vertical-align: middle;\n",
       "    }\n",
       "\n",
       "    .dataframe tbody tr th {\n",
       "        vertical-align: top;\n",
       "    }\n",
       "\n",
       "    .dataframe thead th {\n",
       "        text-align: right;\n",
       "    }\n",
       "</style>\n",
       "<table border=\"1\" class=\"dataframe\">\n",
       "  <thead>\n",
       "    <tr style=\"text-align: right;\">\n",
       "      <th></th>\n",
       "      <th>Idade</th>\n",
       "      <th>Estado_Benefício</th>\n",
       "      <th>Benefício</th>\n",
       "      <th>PMBC</th>\n",
       "    </tr>\n",
       "  </thead>\n",
       "  <tbody>\n",
       "    <tr>\n",
       "      <th>0</th>\n",
       "      <td>28</td>\n",
       "      <td>PMBAC</td>\n",
       "      <td>0</td>\n",
       "      <td>0.0</td>\n",
       "    </tr>\n",
       "    <tr>\n",
       "      <th>1</th>\n",
       "      <td>49</td>\n",
       "      <td>PMBAC</td>\n",
       "      <td>0</td>\n",
       "      <td>0.0</td>\n",
       "    </tr>\n",
       "    <tr>\n",
       "      <th>2</th>\n",
       "      <td>59</td>\n",
       "      <td>PMBAC</td>\n",
       "      <td>0</td>\n",
       "      <td>0.0</td>\n",
       "    </tr>\n",
       "    <tr>\n",
       "      <th>3</th>\n",
       "      <td>62</td>\n",
       "      <td>PMBAC</td>\n",
       "      <td>0</td>\n",
       "      <td>0.0</td>\n",
       "    </tr>\n",
       "    <tr>\n",
       "      <th>4</th>\n",
       "      <td>58</td>\n",
       "      <td>PMBAC</td>\n",
       "      <td>0</td>\n",
       "      <td>0.0</td>\n",
       "    </tr>\n",
       "  </tbody>\n",
       "</table>\n",
       "</div>"
      ],
      "text/plain": [
       "   Idade Estado_Benefício  Benefício  PMBC\n",
       "0     28            PMBAC          0   0.0\n",
       "1     49            PMBAC          0   0.0\n",
       "2     59            PMBAC          0   0.0\n",
       "3     62            PMBAC          0   0.0\n",
       "4     58            PMBAC          0   0.0"
      ]
     },
     "execution_count": 21,
     "metadata": {},
     "output_type": "execute_result"
    }
   ],
   "source": [
    "# Exibindo as primeiras linhas para verificar a coluna PMBC\n",
    "\n",
    "dados_segurados[[\"Idade\", \"Estado_Benefício\", \"Benefício\", \"PMBC\"]].head()"
   ]
  },
  {
   "cell_type": "code",
   "execution_count": 22,
   "id": "9668dfc7",
   "metadata": {},
   "outputs": [
    {
     "data": {
      "text/html": [
       "<div>\n",
       "<style scoped>\n",
       "    .dataframe tbody tr th:only-of-type {\n",
       "        vertical-align: middle;\n",
       "    }\n",
       "\n",
       "    .dataframe tbody tr th {\n",
       "        vertical-align: top;\n",
       "    }\n",
       "\n",
       "    .dataframe thead th {\n",
       "        text-align: right;\n",
       "    }\n",
       "</style>\n",
       "<table border=\"1\" class=\"dataframe\">\n",
       "  <thead>\n",
       "    <tr style=\"text-align: right;\">\n",
       "      <th></th>\n",
       "      <th>Idade</th>\n",
       "      <th>Idade_Contratacao</th>\n",
       "      <th>Estado_Benefício</th>\n",
       "      <th>Benefício</th>\n",
       "      <th>Tempo_Acumulação</th>\n",
       "      <th>Tempo_Acumulação_Meses</th>\n",
       "      <th>Contribuicao</th>\n",
       "      <th>PMBAC</th>\n",
       "      <th>PMBC</th>\n",
       "    </tr>\n",
       "  </thead>\n",
       "  <tbody>\n",
       "    <tr>\n",
       "      <th>101</th>\n",
       "      <td>65</td>\n",
       "      <td>37</td>\n",
       "      <td>PMBC</td>\n",
       "      <td>2000</td>\n",
       "      <td>0</td>\n",
       "      <td>0</td>\n",
       "      <td>0.0</td>\n",
       "      <td>0.0</td>\n",
       "      <td>360621.828825</td>\n",
       "    </tr>\n",
       "    <tr>\n",
       "      <th>228</th>\n",
       "      <td>65</td>\n",
       "      <td>42</td>\n",
       "      <td>PMBC</td>\n",
       "      <td>2000</td>\n",
       "      <td>0</td>\n",
       "      <td>0</td>\n",
       "      <td>0.0</td>\n",
       "      <td>0.0</td>\n",
       "      <td>360621.828825</td>\n",
       "    </tr>\n",
       "    <tr>\n",
       "      <th>259</th>\n",
       "      <td>65</td>\n",
       "      <td>51</td>\n",
       "      <td>PMBC</td>\n",
       "      <td>2000</td>\n",
       "      <td>0</td>\n",
       "      <td>0</td>\n",
       "      <td>0.0</td>\n",
       "      <td>0.0</td>\n",
       "      <td>360621.828825</td>\n",
       "    </tr>\n",
       "    <tr>\n",
       "      <th>360</th>\n",
       "      <td>65</td>\n",
       "      <td>59</td>\n",
       "      <td>PMBC</td>\n",
       "      <td>2000</td>\n",
       "      <td>0</td>\n",
       "      <td>0</td>\n",
       "      <td>0.0</td>\n",
       "      <td>0.0</td>\n",
       "      <td>360621.828825</td>\n",
       "    </tr>\n",
       "    <tr>\n",
       "      <th>387</th>\n",
       "      <td>65</td>\n",
       "      <td>56</td>\n",
       "      <td>PMBC</td>\n",
       "      <td>2000</td>\n",
       "      <td>0</td>\n",
       "      <td>0</td>\n",
       "      <td>0.0</td>\n",
       "      <td>0.0</td>\n",
       "      <td>360621.828825</td>\n",
       "    </tr>\n",
       "  </tbody>\n",
       "</table>\n",
       "</div>"
      ],
      "text/plain": [
       "     Idade  Idade_Contratacao Estado_Benefício  Benefício  Tempo_Acumulação  \\\n",
       "101     65                 37             PMBC       2000                 0   \n",
       "228     65                 42             PMBC       2000                 0   \n",
       "259     65                 51             PMBC       2000                 0   \n",
       "360     65                 59             PMBC       2000                 0   \n",
       "387     65                 56             PMBC       2000                 0   \n",
       "\n",
       "     Tempo_Acumulação_Meses  Contribuicao  PMBAC           PMBC  \n",
       "101                       0           0.0    0.0  360621.828825  \n",
       "228                       0           0.0    0.0  360621.828825  \n",
       "259                       0           0.0    0.0  360621.828825  \n",
       "360                       0           0.0    0.0  360621.828825  \n",
       "387                       0           0.0    0.0  360621.828825  "
      ]
     },
     "execution_count": 22,
     "metadata": {},
     "output_type": "execute_result"
    }
   ],
   "source": [
    "# Filtrando segurados com benefícios concedidos para visualizar a PMBC\n",
    "\n",
    "dados_segurados[dados_segurados[\"Estado_Benefício\"] == \"PMBC\"].head()"
   ]
  },
  {
   "cell_type": "markdown",
   "id": "ee484475",
   "metadata": {},
   "source": [
    "## Análise descritiva"
   ]
  },
  {
   "cell_type": "code",
   "execution_count": 23,
   "id": "8f578c08",
   "metadata": {},
   "outputs": [
    {
     "name": "stdout",
     "output_type": "stream",
     "text": [
      "              PMBAC           PMBC\n",
      "count  19870.000000   19870.000000\n",
      "mean     145.174170    8275.971512\n",
      "std       65.994245   54001.398491\n",
      "min        0.000000       0.000000\n",
      "25%       92.501610       0.000000\n",
      "50%      134.874970       0.000000\n",
      "75%      196.209734       0.000000\n",
      "max      276.262396  360621.828825\n"
     ]
    }
   ],
   "source": [
    "# Resumo descritivo das provisões\n",
    "\n",
    "resumo_provisoes = dados_segurados[[\"PMBAC\", \"PMBC\"]].describe()\n",
    "print(resumo_provisoes)"
   ]
  },
  {
   "cell_type": "code",
   "execution_count": 24,
   "id": "f53513d1",
   "metadata": {},
   "outputs": [
    {
     "name": "stdout",
     "output_type": "stream",
     "text": [
      "Estado_Benefício\n",
      "PMBAC    19414\n",
      "PMBC       456\n",
      "Name: count, dtype: int64\n"
     ]
    }
   ],
   "source": [
    "# Contagem de segurados em cada estado de benefício\n",
    "\n",
    "contagem_estado = dados_segurados[\"Estado_Benefício\"].value_counts()\n",
    "print(contagem_estado)"
   ]
  },
  {
   "cell_type": "code",
   "execution_count": 25,
   "id": "7777e79d",
   "metadata": {},
   "outputs": [],
   "source": [
    "# Calculando o total das provisões\n",
    "\n",
    "total_pmbac = dados_segurados[\"PMBAC\"].sum()\n",
    "total_pmbc = dados_segurados[\"PMBC\"].sum()"
   ]
  },
  {
   "cell_type": "code",
   "execution_count": 26,
   "id": "a8ed0b19",
   "metadata": {},
   "outputs": [
    {
     "name": "stdout",
     "output_type": "stream",
     "text": [
      "Total de PMBAC:  2884610.76\n"
     ]
    }
   ],
   "source": [
    "print(f'Total de PMBAC: {total_pmbac: .2f}')"
   ]
  },
  {
   "cell_type": "code",
   "execution_count": 27,
   "id": "f9d146c9",
   "metadata": {},
   "outputs": [
    {
     "name": "stdout",
     "output_type": "stream",
     "text": [
      "Total de PMBC:  164443553.94\n"
     ]
    }
   ],
   "source": [
    "print(f'Total de PMBC: {total_pmbc: .2f}')"
   ]
  },
  {
   "cell_type": "markdown",
   "id": "2049b0fe",
   "metadata": {},
   "source": [
    "## Visualização gráfica"
   ]
  },
  {
   "cell_type": "code",
   "execution_count": 28,
   "id": "1305fda1",
   "metadata": {},
   "outputs": [
    {
     "data": {
      "image/png": "[encoded data removed]",
      "text/plain": [
       "<Figure size 576x360 with 1 Axes>"
      ]
     },
     "metadata": {
      "needs_background": "light"
     },
     "output_type": "display_data"
    }
   ],
   "source": [
    "# Criando um gráfico de barras para a contagem de segurados em cada estado\n",
    "\n",
    "plt.figure(figsize=(8, 5))\n",
    "contagem_estado.plot(kind='bar', color=['blue', 'orange'])\n",
    "plt.title('Contagem de Segurados por Estado de Benefício')\n",
    "plt.xlabel('Estado de Benefício')\n",
    "plt.ylabel('Número de Segurados')\n",
    "plt.xticks(rotation=0)\n",
    "plt.show()"
   ]
  },
  {
   "cell_type": "markdown",
   "id": "335e9f42",
   "metadata": {},
   "source": [
    "## Análise de sensibilidade - Definindo cenários"
   ]
  },
  {
   "cell_type": "code",
   "execution_count": 29,
   "id": "4fb39f49",
   "metadata": {},
   "outputs": [],
   "source": [
    "# Valores de variação para taxa de juros e contribuição mensal\n",
    "\n",
    "variacoes_taxa_juros = [taxa_juros * 0.95, taxa_juros, taxa_juros * 1.05]\n",
    "variacoes_contribuicao = [contribuicao_mensal * 0.95, contribuicao_mensal, contribuicao_mensal * 1.05]"
   ]
  },
  {
   "cell_type": "code",
   "execution_count": 30,
   "id": "5a4e35c9",
   "metadata": {},
   "outputs": [],
   "source": [
    "# Estruturando uma lista para armazenar os resultados de cada cenário\n",
    "\n",
    "resultados_sensibilidade = []"
   ]
  },
  {
   "cell_type": "code",
   "execution_count": 31,
   "id": "9eb1dfc8",
   "metadata": {},
   "outputs": [],
   "source": [
    "# Executando as simulações para cada combinação de taxa de juros e contribuição mensal\n",
    "\n",
    "for taxa in variacoes_taxa_juros:\n",
    "    for contrib in variacoes_contribuicao:\n",
    "        \n",
    "        # Calculando PMBAC ajustado com taxa e contribuição ajustadas\n",
    "        \n",
    "        dados_segurados[\"PMBAC_Sens\"] = np.where(\n",
    "            dados_segurados[\"Estado_Benefício\"] == \"PMBAC\", \n",
    "            contrib * ((1 + taxa / 12) ** dados_segurados[\"Tempo_Acumulação_Meses\"] / 12), \n",
    "            0\n",
    "        )\n",
    "        \n",
    "        # Calculando o total da PMBAC ajustada para o cenário\n",
    "        \n",
    "        total_pmbac_sens = dados_segurados[\"PMBAC_Sens\"].sum()\n",
    "        \n",
    "        # Salvando o resultado do cenário\n",
    "        \n",
    "        resultados_sensibilidade.append({\n",
    "            \"Taxa_Juros\": taxa,\n",
    "            \"Contribuicao\": contrib,\n",
    "            \"Total_PMBAC_Sens\": total_pmbac_sens\n",
    "        })"
   ]
  },
  {
   "cell_type": "code",
   "execution_count": 32,
   "id": "7ae01c2a",
   "metadata": {},
   "outputs": [],
   "source": [
    "# Convertendo os resultados para um DataFrame para fácil visualização\n",
    "\n",
    "resultados_df = pd.DataFrame(resultados_sensibilidade)"
   ]
  },
  {
   "cell_type": "code",
   "execution_count": 33,
   "id": "f4dd395a",
   "metadata": {},
   "outputs": [
    {
     "name": "stdout",
     "output_type": "stream",
     "text": [
      "   Taxa_Juros  Contribuicao  Total_PMBAC_Sens\n",
      "0      0.0285         475.0      1.454161e+06\n",
      "1      0.0285         500.0      1.530696e+06\n",
      "2      0.0285         525.0      1.607231e+06\n",
      "3      0.0300         475.0      1.508095e+06\n",
      "4      0.0300         500.0      1.587468e+06\n",
      "5      0.0300         525.0      1.666841e+06\n",
      "6      0.0315         475.0      1.564456e+06\n",
      "7      0.0315         500.0      1.646796e+06\n",
      "8      0.0315         525.0      1.729136e+06\n"
     ]
    }
   ],
   "source": [
    "# Exibindo os resultados\n",
    "\n",
    "print(resultados_df)"
   ]
  },
  {
   "cell_type": "markdown",
   "id": "f2e63fbc",
   "metadata": {},
   "source": [
    "## Análise dos resultados"
   ]
  },
  {
   "cell_type": "markdown",
   "id": "9441428c",
   "metadata": {},
   "source": [
    "#### 1. Taxa de Juros: À medida que a taxa de juros aumenta, o valor total do PMBAC também aumenta. Isso ocorre porque um aumento na taxa de juros gera uma valorização dos fundos acumulados, refletindo um crescimento nas reservas.\n",
    "\n",
    "#### 2. Contribuição Mensal: A contribuição mensal também tem um impacto direto e linear no valor total da provisão. Quando ela aumenta, o total do PMBAC aumenta, o que faz sentido, já que o montante contribuído diretamente afeta o saldo acumulado."
   ]
  },
  {
   "cell_type": "markdown",
   "id": "66e078f5",
   "metadata": {},
   "source": [
    "## Adicionando a tabela de mortalidade"
   ]
  },
  {
   "cell_type": "code",
   "execution_count": 34,
   "id": "7ff66e74",
   "metadata": {},
   "outputs": [],
   "source": [
    "# Definindo uma tabela de mortalidade simulada para cada idade\n",
    "# Probabilidades de sobrevivência até a idade de aposentadoria (exemplo simplificado)\n",
    "\n",
    "tabela_mortalidade = {\n",
    "    idade: max(0, 1 - 0.01 * (idade - idade_minima)) for idade in range(idade_minima, idade_aposentadoria + 1)\n",
    "}"
   ]
  },
  {
   "cell_type": "code",
   "execution_count": 35,
   "id": "b933c065",
   "metadata": {},
   "outputs": [
    {
     "name": "stdout",
     "output_type": "stream",
     "text": [
      "Tabela de Mortalidade Simulada (Probabilidade de Sobrevivência):\n",
      "\n",
      "Idade: 25, Probabilidade de Sobrevivência: 1.00\n",
      "Idade: 26, Probabilidade de Sobrevivência: 0.99\n",
      "Idade: 27, Probabilidade de Sobrevivência: 0.98\n",
      "Idade: 28, Probabilidade de Sobrevivência: 0.97\n",
      "Idade: 29, Probabilidade de Sobrevivência: 0.96\n",
      "Idade: 30, Probabilidade de Sobrevivência: 0.95\n",
      "Idade: 31, Probabilidade de Sobrevivência: 0.94\n",
      "Idade: 32, Probabilidade de Sobrevivência: 0.93\n",
      "Idade: 33, Probabilidade de Sobrevivência: 0.92\n",
      "Idade: 34, Probabilidade de Sobrevivência: 0.91\n",
      "Idade: 35, Probabilidade de Sobrevivência: 0.90\n",
      "Idade: 36, Probabilidade de Sobrevivência: 0.89\n",
      "Idade: 37, Probabilidade de Sobrevivência: 0.88\n",
      "Idade: 38, Probabilidade de Sobrevivência: 0.87\n",
      "Idade: 39, Probabilidade de Sobrevivência: 0.86\n",
      "Idade: 40, Probabilidade de Sobrevivência: 0.85\n",
      "Idade: 41, Probabilidade de Sobrevivência: 0.84\n",
      "Idade: 42, Probabilidade de Sobrevivência: 0.83\n",
      "Idade: 43, Probabilidade de Sobrevivência: 0.82\n",
      "Idade: 44, Probabilidade de Sobrevivência: 0.81\n",
      "Idade: 45, Probabilidade de Sobrevivência: 0.80\n",
      "Idade: 46, Probabilidade de Sobrevivência: 0.79\n",
      "Idade: 47, Probabilidade de Sobrevivência: 0.78\n",
      "Idade: 48, Probabilidade de Sobrevivência: 0.77\n",
      "Idade: 49, Probabilidade de Sobrevivência: 0.76\n",
      "Idade: 50, Probabilidade de Sobrevivência: 0.75\n",
      "Idade: 51, Probabilidade de Sobrevivência: 0.74\n",
      "Idade: 52, Probabilidade de Sobrevivência: 0.73\n",
      "Idade: 53, Probabilidade de Sobrevivência: 0.72\n",
      "Idade: 54, Probabilidade de Sobrevivência: 0.71\n",
      "Idade: 55, Probabilidade de Sobrevivência: 0.70\n",
      "Idade: 56, Probabilidade de Sobrevivência: 0.69\n",
      "Idade: 57, Probabilidade de Sobrevivência: 0.68\n",
      "Idade: 58, Probabilidade de Sobrevivência: 0.67\n",
      "Idade: 59, Probabilidade de Sobrevivência: 0.66\n",
      "Idade: 60, Probabilidade de Sobrevivência: 0.65\n",
      "Idade: 61, Probabilidade de Sobrevivência: 0.64\n",
      "Idade: 62, Probabilidade de Sobrevivência: 0.63\n",
      "Idade: 63, Probabilidade de Sobrevivência: 0.62\n",
      "Idade: 64, Probabilidade de Sobrevivência: 0.61\n",
      "Idade: 65, Probabilidade de Sobrevivência: 0.60\n"
     ]
    }
   ],
   "source": [
    "# Exibindo a tabela de mortalidade simulada\n",
    "\n",
    "print(\"Tabela de Mortalidade Simulada (Probabilidade de Sobrevivência):\")\n",
    "print()\n",
    "for idade, probabilidade in tabela_mortalidade.items():\n",
    "    print(f\"Idade: {idade}, Probabilidade de Sobrevivência: {probabilidade:.2f}\")"
   ]
  },
  {
   "cell_type": "code",
   "execution_count": 36,
   "id": "c8b2555a",
   "metadata": {},
   "outputs": [],
   "source": [
    "# Calculando a PMBAC ajustada pela probabilidade de sobrevivência\n",
    "\n",
    "dados_segurados[\"Prob_Sobrevivencia\"] = dados_segurados[\"Idade\"].map(tabela_mortalidade)"
   ]
  },
  {
   "cell_type": "code",
   "execution_count": 37,
   "id": "519102c0",
   "metadata": {},
   "outputs": [],
   "source": [
    "# PMBAC ajustada pela probabilidade de sobrevivência\n",
    "\n",
    "dados_segurados[\"PMBAC_Ajustada\"] = dados_segurados[\"PMBAC\"] * dados_segurados[\"Prob_Sobrevivencia\"]"
   ]
  },
  {
   "cell_type": "code",
   "execution_count": 38,
   "id": "0f9d587b",
   "metadata": {},
   "outputs": [
    {
     "name": "stdout",
     "output_type": "stream",
     "text": [
      "   Idade Estado_Benefício  Contribuicao       PMBAC  Prob_Sobrevivencia  \\\n",
      "0     28            PMBAC         987.5  249.356763                0.97   \n",
      "1     49            PMBAC         937.5  126.180208                0.76   \n",
      "2     59            PMBAC         962.5   96.005242                0.66   \n",
      "3     62            PMBAC         812.5   74.076397                0.63   \n",
      "4     58            PMBAC         787.5   80.938909                0.67   \n",
      "\n",
      "   PMBAC_Ajustada  \n",
      "0      241.876060  \n",
      "1       95.896958  \n",
      "2       63.363460  \n",
      "3       46.668130  \n",
      "4       54.229069  \n"
     ]
    }
   ],
   "source": [
    "# Exibindo o DataFrame atualizado com as colunas de Probabilidade de Sobrevivência e PMBAC Ajustada\n",
    "\n",
    "print(dados_segurados[[\"Idade\", \"Estado_Benefício\", \"Contribuicao\", \"PMBAC\", \"Prob_Sobrevivencia\", \"PMBAC_Ajustada\"]].head())"
   ]
  },
  {
   "cell_type": "markdown",
   "id": "663e5483",
   "metadata": {},
   "source": [
    "## Simulando cenários de aposentadoria antecipada e atrasada -  ajustando o cálculo do benefício para considerar diferentes idades de aposentadoria."
   ]
  },
  {
   "cell_type": "code",
   "execution_count": 39,
   "id": "47b3a241",
   "metadata": {},
   "outputs": [],
   "source": [
    "# Definindo os anos de antecipação e postergação de aposentadoria\n",
    "\n",
    "anos_antecipacao = 5\n",
    "anos_postergacao = 5"
   ]
  },
  {
   "cell_type": "code",
   "execution_count": 40,
   "id": "2b142ecc",
   "metadata": {},
   "outputs": [],
   "source": [
    "# Calculando a PMBAC para cenários de aposentadoria antecipada e postergada\n",
    "\n",
    "dados_segurados[\"PMBAC_Anticipada\"] = dados_segurados.apply(\n",
    "    lambda row: row[\"PMBAC_Ajustada\"] * (1 - 0.05 * anos_antecipacao) if row[\"Idade\"] + anos_antecipacao < idade_aposentadoria else row[\"PMBAC_Ajustada\"],\n",
    "    axis=1\n",
    ")\n",
    "\n",
    "dados_segurados[\"PMBAC_Posterior\"] = dados_segurados.apply(\n",
    "    lambda row: row[\"PMBAC_Ajustada\"] * (1 + 0.05 * anos_postergacao) if row[\"Idade\"] + anos_postergacao >= idade_aposentadoria else row[\"PMBAC_Ajustada\"],\n",
    "    axis=1\n",
    ")"
   ]
  },
  {
   "cell_type": "code",
   "execution_count": 41,
   "id": "9ab03e9e",
   "metadata": {},
   "outputs": [
    {
     "name": "stdout",
     "output_type": "stream",
     "text": [
      "   Idade Estado_Benefício  Contribuicao  PMBAC_Ajustada  PMBAC_Anticipada  \\\n",
      "0     28            PMBAC         987.5      241.876060        181.407045   \n",
      "1     49            PMBAC         937.5       95.896958         71.922718   \n",
      "2     59            PMBAC         962.5       63.363460         47.522595   \n",
      "3     62            PMBAC         812.5       46.668130         46.668130   \n",
      "4     58            PMBAC         787.5       54.229069         40.671802   \n",
      "\n",
      "   PMBAC_Posterior  \n",
      "0       241.876060  \n",
      "1        95.896958  \n",
      "2        63.363460  \n",
      "3        58.335163  \n",
      "4        54.229069  \n"
     ]
    }
   ],
   "source": [
    "# Exibindo os primeiros resultados para visualização\n",
    "\n",
    "print(dados_segurados[[\"Idade\", \"Estado_Benefício\", \"Contribuicao\", \"PMBAC_Ajustada\", \"PMBAC_Anticipada\", \"PMBAC_Posterior\"]].head())"
   ]
  },
  {
   "cell_type": "markdown",
   "id": "ab84cbd7",
   "metadata": {},
   "source": [
    "## Análise dos resultados"
   ]
  },
  {
   "cell_type": "markdown",
   "id": "8edb03b6",
   "metadata": {},
   "source": [
    "#### Aplicando um ajuste de 5% a cada ano para antecipação (redução de valor) e postergação (aumento de valor).\n",
    "\n",
    "#### Isso oferece uma visão sobre como mudanças na idade de aposentadoria podem impactar o valor ajustado da provisão."
   ]
  },
  {
   "cell_type": "markdown",
   "id": "92c14f27",
   "metadata": {},
   "source": [
    "## Preparação das variáveis de contribuição"
   ]
  },
  {
   "cell_type": "code",
   "execution_count": 42,
   "id": "dbbea9af",
   "metadata": {},
   "outputs": [],
   "source": [
    "# Parâmetros iniciais\n",
    "\n",
    "num_segurados = 19870  # Total de segurados\n",
    "anos_contribuicao = 30  # Período de contribuição\n",
    "salario_inicial = 3000  # Salário inicial dos segurados\n",
    "taxa_aumento_salarial = 0.03  # Crescimento anual de 3%\n",
    "taxa_contribuicao = 0.10  # 10% de contribuição sobre o salário"
   ]
  },
  {
   "cell_type": "code",
   "execution_count": 43,
   "id": "d1059d5a",
   "metadata": {},
   "outputs": [],
   "source": [
    "# Gerando o DataFrame com anos, salário e contribuição\n",
    "\n",
    "dados = pd.DataFrame({\n",
    "    'Ano': range(1, anos_contribuicao + 1),\n",
    "    'Salario': [salario_inicial * (1 + taxa_aumento_salarial) ** i for i in range(anos_contribuicao)]\n",
    "})\n",
    "dados['Contribuicao'] = dados['Salario'] * taxa_contribuicao"
   ]
  },
  {
   "cell_type": "code",
   "execution_count": 44,
   "id": "5a8df116",
   "metadata": {},
   "outputs": [
    {
     "name": "stdout",
     "output_type": "stream",
     "text": [
      "   Ano     Salario  Contribuicao\n",
      "0    1  3000.00000    300.000000\n",
      "1    2  3090.00000    309.000000\n",
      "2    3  3182.70000    318.270000\n",
      "3    4  3278.18100    327.818100\n",
      "4    5  3376.52643    337.652643\n"
     ]
    }
   ],
   "source": [
    "# Exibindo as primeiras linhas do Dataframe\n",
    "\n",
    "print(dados.head())"
   ]
  },
  {
   "cell_type": "code",
   "execution_count": 45,
   "id": "8a002c57",
   "metadata": {},
   "outputs": [],
   "source": [
    "# Definindo a taxa de juros anual\n",
    "\n",
    "taxa_juros_anual = 0.05 # 5% ao ano"
   ]
  },
  {
   "cell_type": "code",
   "execution_count": 46,
   "id": "3036c83f",
   "metadata": {},
   "outputs": [],
   "source": [
    "saldo_acumulado = 0\n",
    "dados['Saldo_Acumulado'] = 0"
   ]
  },
  {
   "cell_type": "code",
   "execution_count": 47,
   "id": "3d16bbd5",
   "metadata": {},
   "outputs": [],
   "source": [
    "# Calculando o saldo acumulado ao longo dos anos\n",
    "\n",
    "for i in range(len(dados)):\n",
    "    saldo_acumulado = saldo_acumulado * (1 + taxa_juros_anual) + dados.loc[i, 'Contribuicao']\n",
    "    dados.loc[i, 'Saldo_Acumulado'] = saldo_acumulado"
   ]
  },
  {
   "cell_type": "code",
   "execution_count": 48,
   "id": "fb3f043e",
   "metadata": {},
   "outputs": [
    {
     "name": "stdout",
     "output_type": "stream",
     "text": [
      "   Ano      Salario  Contribuicao  Saldo_Acumulado\n",
      "0    1  3000.000000    300.000000       300.000000\n",
      "1    2  3090.000000    309.000000       624.000000\n",
      "2    3  3182.700000    318.270000       973.470000\n",
      "3    4  3278.181000    327.818100      1349.961600\n",
      "4    5  3376.526430    337.652643      1755.112323\n",
      "5    6  3477.822223    347.782222      2190.650161\n",
      "6    7  3582.156890    358.215689      2658.398358\n",
      "7    8  3689.621596    368.962160      3160.280436\n",
      "8    9  3800.310244    380.031024      3698.325482\n",
      "9   10  3914.319551    391.431955      4274.673711\n"
     ]
    }
   ],
   "source": [
    "# Exibindo os primeiros anos para verificar\n",
    "\n",
    "print(dados.head(10))"
   ]
  },
  {
   "cell_type": "markdown",
   "id": "9e570415",
   "metadata": {},
   "source": [
    "## Análise dos resultados"
   ]
  },
  {
   "cell_type": "markdown",
   "id": "06e031ea",
   "metadata": {},
   "source": [
    "#### Podemos observar como o saldo cresce a cada ano à medida que as contribuições são feitas e os juros são aplicados.\n",
    "\n",
    "#### Analisando as variáveis, podemos notar:\n",
    "\n",
    "#### 1. Contribuções: A coluna Contribuicao mostra o valor que é contribuído anualmente, que aumenta a cada ano devido ao aumento salarial.\n",
    "#### 2. Saldo Acumulado: A coluna Saldo_Acumulado reflete o saldo acumulado total ao longo dos anos, considerando as contribuições e o efeito dos juros compostos."
   ]
  },
  {
   "cell_type": "markdown",
   "id": "04a38e83",
   "metadata": {},
   "source": [
    "## Estimativa de falecimento e impacto financeiro"
   ]
  },
  {
   "cell_type": "code",
   "execution_count": 49,
   "id": "90945751",
   "metadata": {},
   "outputs": [],
   "source": [
    "# Estimativa de falecimentos para cada idade\n",
    "\n",
    "dados_segurados[\"Falecimentos_Estimados\"] = (1 - dados_segurados[\"Prob_Sobrevivencia\"]) * num_segurados"
   ]
  },
  {
   "cell_type": "code",
   "execution_count": 50,
   "id": "4572006c",
   "metadata": {},
   "outputs": [],
   "source": [
    "# Calculando o impacto financeiro dos falecimentos\n",
    "\n",
    "dados_segurados[\"Impacto_Financeiro\"] = dados_segurados[\"Falecimentos_Estimados\"] * dados_segurados[\"PMBAC_Ajustada\"]"
   ]
  },
  {
   "cell_type": "code",
   "execution_count": 51,
   "id": "63104599",
   "metadata": {},
   "outputs": [],
   "source": [
    "# Somando o impacto financeiro total\n",
    "\n",
    "impacto_total = dados_segurados[\"Impacto_Financeiro\"].sum()"
   ]
  },
  {
   "cell_type": "code",
   "execution_count": 52,
   "id": "dd202170",
   "metadata": {},
   "outputs": [],
   "source": [
    "# Provisões totais ajustadas\n",
    "\n",
    "provisao_total_original = dados_segurados[\"PMBAC_Ajustada\"].sum()\n",
    "provisao_total_ajustada = provisao_total_original - impacto_total"
   ]
  },
  {
   "cell_type": "code",
   "execution_count": 53,
   "id": "e487939b",
   "metadata": {},
   "outputs": [
    {
     "name": "stdout",
     "output_type": "stream",
     "text": [
      "Impacto Financeiro Total dos Falecimentos: 6511533883.26\n"
     ]
    }
   ],
   "source": [
    "# Exibindo os resultados do impacto financeiro\n",
    "\n",
    "print(f\"Impacto Financeiro Total dos Falecimentos: {impacto_total:.2f}\")"
   ]
  },
  {
   "cell_type": "code",
   "execution_count": 54,
   "id": "f01ece68",
   "metadata": {},
   "outputs": [
    {
     "name": "stdout",
     "output_type": "stream",
     "text": [
      "Provisão Total Original (Ajustada): 2459868.77\n"
     ]
    }
   ],
   "source": [
    "# Exibindo os resultados da provisão total original\n",
    "\n",
    "print(f\"Provisão Total Original (Ajustada): {provisao_total_original:.2f}\")"
   ]
  },
  {
   "cell_type": "code",
   "execution_count": 55,
   "id": "44c071e3",
   "metadata": {},
   "outputs": [
    {
     "name": "stdout",
     "output_type": "stream",
     "text": [
      "Provisão Total Ajustada: -6509074014.49\n"
     ]
    }
   ],
   "source": [
    "# Exibindo os resultados da provisão total ajustada\n",
    "\n",
    "print(f\"Provisão Total Ajustada: {provisao_total_ajustada:.2f}\")"
   ]
  },
  {
   "cell_type": "code",
   "execution_count": 56,
   "id": "6575678b",
   "metadata": {},
   "outputs": [
    {
     "name": "stdout",
     "output_type": "stream",
     "text": [
      "   Idade  Falecimentos_Estimados  Impacto_Financeiro\n",
      "0     28                   596.1       144182.319578\n",
      "1     49                  4768.8       457313.413146\n",
      "2     59                  6755.8       428070.859690\n",
      "3     62                  7351.9       343099.425419\n",
      "4     58                  6557.1       355585.427597\n"
     ]
    }
   ],
   "source": [
    "# Exibindo o DataFrame atualizado\n",
    "\n",
    "print(dados_segurados[[\"Idade\", \"Falecimentos_Estimados\", \"Impacto_Financeiro\"]].head())"
   ]
  },
  {
   "cell_type": "markdown",
   "id": "044a234c",
   "metadata": {},
   "source": [
    "## Análise dos resultados"
   ]
  },
  {
   "cell_type": "markdown",
   "id": "86d76cdb",
   "metadata": {},
   "source": [
    "#### Os resultados mostram que o impacto financeiro dos falecimentos é significativamente maior do que a provisão total original, resultando em uma provisão total ajustada negativa.\n",
    "\n",
    "#### Isso indica que as provisões atualmente em vigor não são suficientes para cobrir as perdas financeiras estimadas devido a falecimentos.\n",
    "\n",
    "#### 1. Impacto Financeiro Total dos Falecimentos: O valor de aproximadamente 6,5 bilhões é um impacto expressivo, que reflete a soma das perdas financeiras estimadas para os segurados.\n",
    "\n",
    "#### 2. Provisão Total Original: A provisão original de cerca de 2,45 milhões é muito inferior ao impacto financeiro total.\n",
    "\n",
    "#### 3. Provisão Total Ajustada Negativa: O resultado negativo (-6,5 bilhões) sugere que a seguradora enfrentaria um déficit considerável se as estimativas de falecimento se concretizassem."
   ]
  },
  {
   "cell_type": "markdown",
   "id": "dbb5077d",
   "metadata": {},
   "source": [
    "## Eventos inesperados"
   ]
  },
  {
   "cell_type": "markdown",
   "id": "8f85bef6",
   "metadata": {},
   "source": [
    "#### Definindo como eventos inesperados a pandemias da COVID-19 e Acidentes de Trânsito.\n",
    "#### A ideia é estimar o impacto financeiro adicional que esses eventos podem ter nas provisões."
   ]
  },
  {
   "cell_type": "code",
   "execution_count": 57,
   "id": "c4c32a75",
   "metadata": {},
   "outputs": [],
   "source": [
    "# Definindo os eventos inesperados e seus impactos estimados\n",
    "\n",
    "eventos_inesperados = {\n",
    "    \"Pandemia\": {\"taxa_aumento\": 0.12, \"impacto_financeiro\": 1000000000}, # 12% de aumento na mortalidade\n",
    "    \"Acidente de Trânsito\": {\"taxa_aumento\": 0.03, \"impacto_financeiro\": 300000000}, # 3% de aumento na mortalidade\n",
    "}"
   ]
  },
  {
   "cell_type": "code",
   "execution_count": 58,
   "id": "19795184",
   "metadata": {},
   "outputs": [],
   "source": [
    "# Calculando o impacto total dos eventos inesperados\n",
    "\n",
    "impacto_eventos = 0\n",
    "for evento, dados in eventos_inesperados.items():\n",
    "    impacto_eventos += dados[\"impacto_financeiro\"] # Soma apenas os impactos financeiros"
   ]
  },
  {
   "cell_type": "code",
   "execution_count": 59,
   "id": "2122df3e",
   "metadata": {},
   "outputs": [],
   "source": [
    "# Ajustando a provisão total\n",
    "\n",
    "provisao_total_ajustada += impacto_eventos # ajusta a provisão total com o impacto dos eventos"
   ]
  },
  {
   "cell_type": "code",
   "execution_count": 60,
   "id": "35ca401f",
   "metadata": {},
   "outputs": [
    {
     "name": "stdout",
     "output_type": "stream",
     "text": [
      "Impacto total dos Eventos Inesperados: 1300000000.00\n"
     ]
    }
   ],
   "source": [
    "# Exibindo o impacto dos eventos\n",
    "\n",
    "print(f\"Impacto total dos Eventos Inesperados: {impacto_eventos:.2f}\")"
   ]
  },
  {
   "cell_type": "code",
   "execution_count": 61,
   "id": "fcecc3a6",
   "metadata": {},
   "outputs": [
    {
     "name": "stdout",
     "output_type": "stream",
     "text": [
      "Nova Provisão Total Ajustada: -5209074014.49\n"
     ]
    }
   ],
   "source": [
    "# Exibindo a provisão total ajustada\n",
    "\n",
    "print(f\"Nova Provisão Total Ajustada: {provisao_total_ajustada:.2f}\")"
   ]
  },
  {
   "cell_type": "markdown",
   "id": "462d0fac",
   "metadata": {},
   "source": [
    "## Considerações e Análise dos resultados"
   ]
  },
  {
   "cell_type": "markdown",
   "id": "b190f744",
   "metadata": {},
   "source": [
    "## Consideraçôes\n",
    "\n",
    "#### 1. Taxa de Aumento para Pandemia: 12% como uma estimativa razoável considerando os dados da COVID-19.\n",
    "#### 2. Taxa de Aumento para Acidente de Trânsito: 3% é uma taxa conservadora."
   ]
  },
  {
   "cell_type": "markdown",
   "id": "71c8b497",
   "metadata": {},
   "source": [
    "## Análise dos resultados\n",
    "\n",
    "#### 1. Impacto Total dos Eventos Inesperados: 1.300.000.000,00: Esse valor representa a soma dos impactos financeiros de eventos inesperados, como a pandemia da COVID - 19 e os acidentes de trânsito. Um impacto tão alto pode refletir a gravidade das condições externas que afetam a mortalidade, especialmente em um contexto recente de pandemia.\n",
    "\n",
    "#### 2. Nova Provisão Total Ajustada -5.209.074.014.49: O valor negativo indica que as provisões totais, após considerar o impacto dos eventos inesperados, estão muito aquém do que seria necessário para cobrir as obrigações financeiras. Isso pode sugerir que a seguradora deve aumentar suas provisões para se alinhar com as novas realidades de risco."
   ]
  },
  {
   "cell_type": "markdown",
   "id": "addfbccf",
   "metadata": {},
   "source": [
    "## Composição demográfica - Gráfico"
   ]
  },
  {
   "cell_type": "markdown",
   "id": "64f85bb7",
   "metadata": {},
   "source": [
    "#### 1. Distribuição Etária: Verificar a faixa etária dos segurados.\n",
    "#### 2. Mortalidade: Analisar se a mortalidade varia com a idade e se isso impacta as provisões."
   ]
  },
  {
   "cell_type": "code",
   "execution_count": 62,
   "id": "604e4ede",
   "metadata": {},
   "outputs": [],
   "source": [
    "# Distribuição etária dos segurados\n",
    "\n",
    "distribuicao_etaria = dados_segurados['Idade'].value_counts().sort_index()"
   ]
  },
  {
   "cell_type": "code",
   "execution_count": 63,
   "id": "952e1ffa",
   "metadata": {},
   "outputs": [
    {
     "name": "stdout",
     "output_type": "stream",
     "text": [
      "Idade\n",
      "25    457\n",
      "26    503\n",
      "27    492\n",
      "28    532\n",
      "29    451\n",
      "30    486\n",
      "31    499\n",
      "32    498\n",
      "33    485\n",
      "34    470\n",
      "35    486\n",
      "36    501\n",
      "37    468\n",
      "38    497\n",
      "39    461\n",
      "40    512\n",
      "41    472\n",
      "42    492\n",
      "43    459\n",
      "44    502\n",
      "45    512\n",
      "46    521\n",
      "47    469\n",
      "48    472\n",
      "49    477\n",
      "50    461\n",
      "51    489\n",
      "52    498\n",
      "53    438\n",
      "54    451\n",
      "55    515\n",
      "56    500\n",
      "57    482\n",
      "58    475\n",
      "59    486\n",
      "60    490\n",
      "61    482\n",
      "62    467\n",
      "63    526\n",
      "64    480\n",
      "65    456\n",
      "Name: count, dtype: int64\n"
     ]
    }
   ],
   "source": [
    "# Exibindo o resultado\n",
    "\n",
    "print(distribuicao_etaria)"
   ]
  },
  {
   "cell_type": "code",
   "execution_count": 64,
   "id": "fe32b09e",
   "metadata": {},
   "outputs": [
    {
     "data": {
      "image/png": "[encoded data removed]",
      "text/plain": [
       "<Figure size 864x432 with 1 Axes>"
      ]
     },
     "metadata": {
      "needs_background": "light"
     },
     "output_type": "display_data"
    }
   ],
   "source": [
    "# Visualizar a distribuição etária\n",
    "\n",
    "plt.figure(figsize=(12, 6))\n",
    "distribuicao_etaria.plot(kind='bar', color='skyblue')\n",
    "plt.title('Distribuição Etária dos Segurados')\n",
    "plt.xlabel('Idade')\n",
    "plt.ylabel('Número de Segurados')\n",
    "plt.xticks(rotation=0)\n",
    "plt.grid(axis='y')\n",
    "plt.show()"
   ]
  },
  {
   "cell_type": "markdown",
   "id": "d1b40c7f",
   "metadata": {},
   "source": [
    "## Análise da Composição Demográfica"
   ]
  },
  {
   "cell_type": "markdown",
   "id": "9bb08b7a",
   "metadata": {},
   "source": [
    "#### 1. Faixa Etária: A maioria dos segurados parece estar concentrada entre os 40 e 55 anos, com uma quantidade significativa de segurados até os 65 anos. Isso é importante, pois a mortalidade tende a aumentar com a idade.\n",
    "\n",
    "#### 2. Impacto nas Provisões: A concentração de segurados em idades mais avançadas pode aumentar a necessidade de provisões, já que segurados mais velhos tendem a ter uma taxa de mortalidade mais alta.\n",
    "\n",
    "#### 3. Cenários de Contribuição: É preciso considerar cenários de contribuição e taxas de mortalidade, especialmente para as faixas etárias mais altas."
   ]
  },
  {
   "cell_type": "markdown",
   "id": "091c44c5",
   "metadata": {},
   "source": [
    "## Geração de cenários"
   ]
  },
  {
   "cell_type": "markdown",
   "id": "967487e8",
   "metadata": {},
   "source": [
    "####  A ideia é simular diferentes contribuições para um intervalo entre 6 e 12 óbitos por 1.000 segurados, variando também a faixa etária. Considerando três cenários de contribuição:\n",
    "\n",
    "#### 1. Cenário Conservador - Contribuição padrão com taxa de mortalidade próxima de 6 por 1.000 segurados.\n",
    "#### 2. Cenário Moderado - Contribuição ajustada para uma taxa de mortalidade média de 9 por 1.000 segurados.\n",
    "#### 3. Cenário Otimista - Contribuição levemente aumentada para cobrir uma taxa de mortalidade de 12 por 1.000 segurados."
   ]
  },
  {
   "cell_type": "code",
   "execution_count": 65,
   "id": "fe55e660",
   "metadata": {},
   "outputs": [],
   "source": [
    "# Coeficiente de mortalidade\n",
    "\n",
    "coef_mortalidade_conservador = 6 / 1000\n",
    "coef_mortalidade_moderado = 9 / 1000\n",
    "coef_mortalidade_otimista = 12 / 1000"
   ]
  },
  {
   "cell_type": "code",
   "execution_count": 66,
   "id": "adede96f",
   "metadata": {},
   "outputs": [],
   "source": [
    "# Contribuições ajustadas conforme o cenário e faixa etária\n",
    "\n",
    "dados_segurados['Contribuicao_Conservador'] = dados_segurados['Idade'].apply(lambda idade: 500 * (1 + coef_mortalidade_conservador))\n",
    "dados_segurados['Contribuicao_Moderado'] = dados_segurados['Idade'].apply(lambda idade: 500 * (1 + coef_mortalidade_moderado))\n",
    "dados_segurados['Contribuicao_Otimista'] = dados_segurados['Idade'].apply(lambda idade: 500 * (1 + coef_mortalidade_otimista))"
   ]
  },
  {
   "cell_type": "code",
   "execution_count": 67,
   "id": "7693a59b",
   "metadata": {},
   "outputs": [
    {
     "name": "stdout",
     "output_type": "stream",
     "text": [
      "Contribuição por cenários\n",
      "\n",
      "   Idade  Contribuicao_Conservador  Contribuicao_Moderado  \\\n",
      "0     28                     503.0                  504.5   \n",
      "1     49                     503.0                  504.5   \n",
      "2     59                     503.0                  504.5   \n",
      "3     62                     503.0                  504.5   \n",
      "4     58                     503.0                  504.5   \n",
      "\n",
      "   Contribuicao_Otimista  \n",
      "0                  506.0  \n",
      "1                  506.0  \n",
      "2                  506.0  \n",
      "3                  506.0  \n",
      "4                  506.0  \n"
     ]
    }
   ],
   "source": [
    "# Visualizando os resultados\n",
    "\n",
    "print(\"Contribuição por cenários\")\n",
    "print()\n",
    "print(dados_segurados[['Idade', 'Contribuicao_Conservador', 'Contribuicao_Moderado', 'Contribuicao_Otimista']].head())"
   ]
  },
  {
   "cell_type": "markdown",
   "id": "99727e3e",
   "metadata": {},
   "source": [
    "## Análise dos resultados"
   ]
  },
  {
   "cell_type": "markdown",
   "id": "c13204ad",
   "metadata": {},
   "source": [
    "#### Essas contribuições são ajustes baseados nos cenários de mortalidade. Para cada segurado, foi aplicado um coeficiente de mortalidade que simula um aumento necessário nas contribuições, considerando os diferentes cenários.\n",
    "\n",
    "#### 1. Contribuição_Conservador (503.00): Nesse cenário, foi calculado uma contribuição que incorpora uma taxa de mortalidade de 6 por 1.000 segurados. O valor ajustado é de 503.00, representando um pequeno aumento na contribuição padrão (500), ajustando para uma baixa taxa de mortalidade.\n",
    "\n",
    "#### 2. Contribuição_Moderado (504.50): Com uma taxa de mortalidade média (9 por 1.000), a contribuição sobe para 504.50. Este ajuste simula um cenário de mortalidade intermediário.\n",
    "\n",
    "#### 3. Contribuição_Otimista (506.00): Aqui, temos um cenário de mortalidade mais alto (12 por 1.000), que exige uma contribuição maior de 506.00. Esse aumento reflete uma necessidade maior de recursos para cobrir o risco de mortalidade elevado.\n",
    "\n",
    "#### Esses valores simulam como pequenas variações na taxa de mortalidade afetam o valor da contribuição necessária para manter o fundo saudável."
   ]
  },
  {
   "cell_type": "markdown",
   "id": "7c588e42",
   "metadata": {},
   "source": [
    "## Aplicando contribuições às provisões totais"
   ]
  },
  {
   "cell_type": "code",
   "execution_count": 68,
   "id": "39f0ddfb",
   "metadata": {},
   "outputs": [],
   "source": [
    "# Período de contribuição até a idade de aposentadoria\n",
    "\n",
    "anos_contribuicao = 35  # Assumindo contribuição até os 65 anos"
   ]
  },
  {
   "cell_type": "code",
   "execution_count": 69,
   "id": "fbcf63e4",
   "metadata": {},
   "outputs": [],
   "source": [
    "# Calculando a provisão acumulada para cada cenário\n",
    "\n",
    "dados_segurados['Provisao_Conservador'] = dados_segurados['Contribuicao_Conservador'] * 12 * anos_contribuicao\n",
    "dados_segurados['Provisao_Moderado'] = dados_segurados['Contribuicao_Moderado'] * 12 * anos_contribuicao\n",
    "dados_segurados['Provisao_Otimista'] = dados_segurados['Contribuicao_Otimista'] * 12 * anos_contribuicao"
   ]
  },
  {
   "cell_type": "code",
   "execution_count": 70,
   "id": "e3b17bf4",
   "metadata": {},
   "outputs": [],
   "source": [
    "# Somando o total acumulado para cada cenário\n",
    "\n",
    "total_provisao_conservador = dados_segurados['Provisao_Conservador'].sum()\n",
    "total_provisao_moderado = dados_segurados['Provisao_Moderado'].sum()\n",
    "total_provisao_otimista = dados_segurados['Provisao_Otimista'].sum()"
   ]
  },
  {
   "cell_type": "code",
   "execution_count": 71,
   "id": "80f6892c",
   "metadata": {},
   "outputs": [
    {
     "name": "stdout",
     "output_type": "stream",
     "text": [
      "Provisão Total (Conservador): 4197736200.00\n"
     ]
    }
   ],
   "source": [
    "# Exibindo o total da provisão conservador\n",
    "\n",
    "print(f\"Provisão Total (Conservador): {total_provisao_conservador:.2f}\")"
   ]
  },
  {
   "cell_type": "code",
   "execution_count": 72,
   "id": "b46cb386",
   "metadata": {},
   "outputs": [
    {
     "name": "stdout",
     "output_type": "stream",
     "text": [
      "Provisão Total (Moderado): 4210254300.00\n"
     ]
    }
   ],
   "source": [
    "# Exibindo o total da provisão moderado\n",
    "\n",
    "print(f\"Provisão Total (Moderado): {total_provisao_moderado:.2f}\")"
   ]
  },
  {
   "cell_type": "code",
   "execution_count": 73,
   "id": "3e1e2fd8",
   "metadata": {},
   "outputs": [
    {
     "name": "stdout",
     "output_type": "stream",
     "text": [
      "Provisão Total (Otimista): 4222772400.00\n"
     ]
    }
   ],
   "source": [
    "# exibindo o total da provisão otimista\n",
    "\n",
    "print(f\"Provisão Total (Otimista): {total_provisao_otimista:.2f}\")"
   ]
  },
  {
   "cell_type": "markdown",
   "id": "148921a5",
   "metadata": {},
   "source": [
    "## Análise de resultados"
   ]
  },
  {
   "cell_type": "markdown",
   "id": "c22a54e0",
   "metadata": {},
   "source": [
    "#### Os resultados são muito interessantes e nos dão uma visão clara da sustentabilidade do fundo em cada cenário.\n",
    "\n",
    "#### 1. Provisão Total (Conservador): 4.197.736.200,00\n",
    "#### 2. Provisão Total (Moderado): 4.210.254.300,00\n",
    "#### 3. Provisão Total (Otimista): 4.222.772.400,00\n",
    "\n",
    "#### Cada um desses valores representa o montante acumulado com base nas contribuições anuais ajustadas para diferentes cenários de projeção.\n",
    "\n",
    "#### Comparação com Obrigações Atuais: Se esses montantes acumulados nos cenários conservador, moderado e otimista são suficientes para cobrir as obrigações projetadas para o pagamento dos benefícios, então é de se considerar que o fundo está em uma posição relativamente segura.\n",
    "\n",
    "#### Análise de Sustentabilidade: Se o montante projetado para as obrigações ultrapassa as provisões totais nos cenários conservador e moderado, isso indicaria que:\n",
    "\n",
    "#### 1. É preciso revisar as contribuições: Ou o valor de contribuição precisaria ser aumentado.\n",
    "#### 2. Reavaliar a taxa de juros: Explorar um ajuste na taxa de crescimento para alcançar uma cobertura adequada.\n",
    "#### 3. Impacto dos Cenários de Contribuição: O cenário otimista gera um montante ligeiramente maior, porém a diferença entre os cenários não é tão significativa. Isso sugere que pequenas variações nas contribuições têm um impacto incremental, mas, no longo prazo, podem influenciar na cobertura das provisões.\n",
    "#### 4. Cenário Conservador x Moderado x Otimista: Como os valores não apresentam diferenças gigantes, indica que o fundo estaria próximo da sustentabilidade em todos os cenários, mas seria prudente realizar um monitoramento constante e uma análise periódica das provisões e das contribuições.\n",
    "\n",
    "#### Ou seja, essas conclusões nos mostram a importância de uma análise de sensibilidade contínua e a necessidade de ajustar as contribuições ou a taxa de juros para alcançar a sustentabilidade ideal."
   ]
  },
  {
   "cell_type": "markdown",
   "id": "a355a918",
   "metadata": {},
   "source": [
    "## 1. Resumo executivo"
   ]
  },
  {
   "cell_type": "markdown",
   "id": "29dfe37a",
   "metadata": {},
   "source": [
    "#### Este projeto visa simular provisões atuariais para um portfólio de segurados, analisando o impacto de diferentes cenários econômicos e demográficos sobre a saúde financeira da seguradora. Para isso, foram realizadas estimativas considerando taxas de mortalidade e de juros ajustadas a eventos recentes, como impactos de pandemia e sinistros inesperados, e diferentes cenários de contribuição.\n",
    "\n",
    "#### Principais Resultados:\n",
    "\n",
    "#### Cenário Conservador: 4.197.736.200,00\n",
    "#### Cenário Moderado: 4.210.254.300,00\n",
    "#### Cenário Otimista: 4.222.772.400,00\n",
    "\n",
    "#### Essas projeções mostram variações significativas nas provisões totais de acordo com cada cenário, ressaltando a importância de ajustes constantes e avaliações periódicas."
   ]
  },
  {
   "cell_type": "markdown",
   "id": "519600be",
   "metadata": {},
   "source": [
    "## 2. Metodologia"
   ]
  },
  {
   "cell_type": "markdown",
   "id": "16c3c971",
   "metadata": {},
   "source": [
    "#### Este projeto utilizou uma abordagem quantitativa para simular e avaliar os impactos financeiros em um portfólio de segurados. A metodologia está dividida nas seguintes etapas:\n",
    "\n",
    "#### 2.1 Coleta e Preparação dos Dados: Inicialmente, defini um portfólio fictício com 19.870 segurados, utilizando variáveis essenciais, como:\n",
    "\n",
    "#### Idade: Faixa etária dos segurados, entre 25 e 65 anos.\n",
    "#### Estado do Benefício: Segurados em fase de contribuição versus aqueles em fase de recebimento de benefício.\n",
    "#### Valores de Contribuição e Benefício: Contribuição fixa de 500,00 e benefício de 2.000,00 mensais.\n",
    "\n",
    "#### 2.2 Definição dos Cenários Econômicos e Demográficos: Foram considerados três cenários econômicos (conservador, moderado e otimista) e aplicadas taxas de juros de 3% ao ano para simular as contribuições e provisões ao longo do tempo. Esses cenários foram ajustados com base nas projeções econômicas do mercado e em eventos de aumento de mortalidade.\n",
    "\n",
    "#### 2.3 Análise de Mortalidade: Para estimar as provisões, calculei o impacto da mortalidade utilizando uma taxa de óbitos ajustada para o Brasil, entre 6 a 12 óbitos por 1.000 habitantes. Aplicando essa taxa em idades específicas e avaliando os impactos por idade, refletindo um cenário que leva em conta não só o envelhecimento natural dos segurados, mas também fatores como acidentes de trânsito.\n",
    "\n",
    "#### 2.4 Provisões Atuarialmente Ajustadas\n",
    "#### PMBAC e PMBC: As provisões foram calculadas para segurados ativos e beneficiários, com provisões ajustadas por faixa etária, eventos inesperados e cenários econômicos.\n",
    "#### Eventos Inesperados: Realizei uma projeção de impactos financeiros adicionais, com um aumento total de 1,3 bilhão devido a eventos como a pandemia e acidentes de trânsito.\n",
    "#### Essa estrutura meticulosa de dados, cenários e taxas possibilitou uma visão clara e adaptada da saúde financeira da seguradora."
   ]
  },
  {
   "cell_type": "markdown",
   "id": "abd80c42",
   "metadata": {},
   "source": [
    "## 3. Resultados"
   ]
  },
  {
   "cell_type": "markdown",
   "id": "ca24d842",
   "metadata": {},
   "source": [
    "#### Nesta seção, apresento as conclusões da análise, organizadas de acordo com os cenários de contribuição e impacto financeiro.\n",
    "\n",
    "#### 3.1 Cenários de Provisão Total: Os cálculos realizados para cada um dos cenários revelaram o seguinte:\n",
    "\n",
    "#### Cenário Conservador: Provisão Total de 4.197.736.200,00\n",
    "#### Cenário Moderado: Provisão Total de 4.210.254.300,00\n",
    "#### Cenário Otimista: Provisão Total de 4.222.772.400,00\n",
    "\n",
    "#### Esses valores ilustram como a provisão necessária se ajusta de acordo com a expectativa econômica de cada cenário, considerando tanto taxas de mortalidade quanto possíveis aumentos nos eventos inesperados.\n",
    "\n",
    "#### 3.2 Impacto Financeiro dos Eventos Inesperados: Os eventos inesperados adicionaram um impacto de aproximadamente 1,3 bilhão à provisão total. Esse valor reflete o aumento de mortalidade devido a fatores como a pandemia e acidentes de trânsito, e ele é essencial para entender o risco adicional que esses eventos impõem ao portfólio.\n",
    "\n",
    "#### 3.3 Sustentabilidade do Fundo de Seguros: Ao analisar a taxa de juros de 3% e o valor dos benefícios e contribuições, observamos que as provisões dos cenários conservador e moderado cobrem os compromissos de curto a médio prazo. No entanto, a simulação sugere que uma taxa de juros mais alta pode ser necessária para manter a sustentabilidade em prazos mais longos, garantindo que o fundo de seguros esteja preparado para honrar todos os compromissos."
   ]
  },
  {
   "cell_type": "markdown",
   "id": "1600e4f7",
   "metadata": {},
   "source": [
    "## 4. Conclusão"
   ]
  },
  {
   "cell_type": "markdown",
   "id": "87d53c60",
   "metadata": {},
   "source": [
    "#### 4.1 Com base nas análises realizadas, podemos concluir que: \n",
    "\n",
    "#### Impacto Significativo dos Eventos Inesperados: Os eventos inesperados têm um impacto financeiro considerável sobre as provisões, e a consideração de fatores como pandemias e acidentes de trânsito é crucial para um planejamento eficaz.\n",
    "\n",
    "#### Variação nas Provisões Totais: Os diferentes cenários de contribuição demonstraram como pequenas alterações nas taxas de contribuição podem ter um grande efeito nas provisões totais necessárias. Isso ressalta a importância de revisar regularmente as políticas de contribuição e ajustar as expectativas conforme o ambiente econômico.\n",
    "\n",
    "#### Sustentabilidade a Longo Prazo: A taxa de juros de 3% pode não ser suficiente para garantir a sustentabilidade do fundo de seguros a longo prazo, especialmente considerando a expectativa de aumento da mortalidade e eventos inesperados. Recomenda-se a revisão dessa taxa."
   ]
  },
  {
   "cell_type": "markdown",
   "id": "ef06f96c",
   "metadata": {},
   "source": [
    "## 5. Recomendações"
   ]
  },
  {
   "cell_type": "markdown",
   "id": "c038f921",
   "metadata": {},
   "source": [
    "#### Para garantir a saúde financeira e a capacidade de honrar os compromissos da seguradora, as seguintes ações são recomendadas:\n",
    "\n",
    "#### 5.1 Revisão das Taxas de Contribuição: Implementar um programa de revisão regular das taxas de contribuição, considerando as mudanças demográficas e as tendências do mercado, para assegurar que os valores permaneçam adequados às necessidades do fundo.\n",
    "\n",
    "#### 5.2 Atualização das Projeções de Mortalidade: Utilizar dados mais recentes e abrangentes para ajustar as taxas de mortalidade e as projeções de eventos inesperados, garantindo que a seguradora esteja bem preparada para as condições futuras.\n",
    "\n",
    "#### 5.3 Análise Contínua do Cenário Econômico: Manter um monitoramento constante das condições econômicas e ajustar as taxas de juros e as expectativas de investimento de acordo com a evolução do cenário econômico global.\n",
    "\n",
    "#### 5.4 Educação e Comunicação: Promover a educação sobre a importância das contribuições e das provisões, tanto para os segurados quanto para os stakeholders, para fomentar a confiança na gestão da seguradora."
   ]
  },
  {
   "cell_type": "markdown",
   "id": "41628a28",
   "metadata": {},
   "source": [
    "## Referências"
   ]
  },
  {
   "cell_type": "markdown",
   "id": "e6537af4",
   "metadata": {},
   "source": [
    "#### 1. Associação Brasileira de Entidades de Previdência Complementar (ABRAPP). (2022). Relatório Anual da Previdência. Recuperado de www.abrapp.org.br\n",
    "\n",
    "#### 2. Instituto Brasileiro de Geografia e Estatística (IBGE). (2023). Projeções da População. Recuperado de www.ibge.gov.br\n",
    "\n",
    "#### 3. Superintendência de Seguros Privados (SUSEP). (2023). Estatísticas do Mercado de Seguros. Recuperado de www.susep.gov.br\n",
    "\n",
    "#### 4. Organização Mundial da Saúde (OMS). (2021). Relatório Global sobre a Mortalidade. Recuperado de www.who.int\n",
    "\n",
    "#### 5. Banco Central do Brasil. (2023). Taxas de Juros e Políticas Monetárias. Recuperado de www.bcb.gov.br\n",
    "\n",
    "#### 6. Amarante Mano, C. C. & Ferreira, P. P. (2009). Aspectos Atuariais e Contábeis das Provisões Técnicas.\n",
    "#### Artigos e estudos relevantes sobre seguros e previdência que foram utilizados como base para as análises e simulações."
   ]
  },
  {
   "cell_type": "code",
   "execution_count": null,
   "id": "289d6ed3",
   "metadata": {},
   "outputs": [],
   "source": []
  }
 ],
 "metadata": {
  "kernelspec": {
   "display_name": "Python 3",
   "language": "python",
   "name": "python3"
  },
  "language_info": {
   "codemirror_mode": {
    "name": "ipython",
    "version": 3
   },
   "file_extension": ".py",
   "mimetype": "text/x-python",
   "name": "python",
   "nbconvert_exporter": "python",
   "pygments_lexer": "ipython3",
   "version": "3.8.8"
  }
 },
 "nbformat": 4,
 "nbformat_minor": 5
}
